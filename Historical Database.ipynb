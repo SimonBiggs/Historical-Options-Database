{
 "metadata": {
  "name": "",
  "signature": "sha256:fb3514b2359b215b7e3f45d4cf1b43db576a304fc0a0eeabb35212403ac255bf"
 },
 "nbformat": 3,
 "nbformat_minor": 0,
 "worksheets": [
  {
   "cells": [
    {
     "cell_type": "heading",
     "level": 1,
     "metadata": {},
     "source": [
      "Automatically download option data"
     ]
    },
    {
     "cell_type": "code",
     "collapsed": false,
     "input": [
      "%pylab inline\n",
      "\n",
      "import datetime as dt\n",
      "import os\n",
      "\n",
      "import pandas as pd\n",
      "from pandas.io.data import Options"
     ],
     "language": "python",
     "metadata": {},
     "outputs": []
    },
    {
     "cell_type": "code",
     "collapsed": false,
     "input": [
      "outputDirectory = os.environ.get('OUTPUTDIRECTORY', -1)\n",
      "\n",
      "if outputDirectory == -1:\n",
      "    stamp = dt.datetime.now().strftime(\"%Y%m%d_%H%M%S\")\n",
      "    outputDirectory = 'data/'+stamp\n",
      "    \n",
      "    print(\"Warning: Output directory was not retrievable\")\n",
      "\n",
      "if not os.path.exists(outputDirectory):\n",
      "    os.makedirs(outputDirectory)"
     ],
     "language": "python",
     "metadata": {},
     "outputs": []
    },
    {
     "cell_type": "code",
     "collapsed": false,
     "input": [
      "tickers = pd.read_csv('ticker_list.csv')\n",
      "tickerList = tickers['ticker'].values"
     ],
     "language": "python",
     "metadata": {},
     "outputs": []
    },
    {
     "cell_type": "code",
     "collapsed": false,
     "input": [
      "for i in range(len(tickerList)):\n",
      "\n",
      "    option = Options(tickerList[i], 'yahoo')\n",
      "    \n",
      "    try:\n",
      "        data = option.get_all_data()\n",
      "    except:\n",
      "        print('Warning: Unable to load '+tickerList[i])\n",
      "        # Include a \"retry\" in the next cell\n",
      "    else:\n",
      "        filename = outputDirectory+'/'+tickerList[i]+'.csv'\n",
      "        data[['Last', 'Vol']].to_csv(filename)"
     ],
     "language": "python",
     "metadata": {},
     "outputs": []
    },
    {
     "cell_type": "code",
     "collapsed": false,
     "input": [
      "# Loop through the failed downloads a few times giving them a chance to work"
     ],
     "language": "python",
     "metadata": {},
     "outputs": []
    },
    {
     "cell_type": "code",
     "collapsed": false,
     "input": [
      "os.system('git add '+outputDirectory)\n",
      "os.system('git commit -m \"Uploading '+outputDirectory+'\"')\n",
      "os.system('git push')"
     ],
     "language": "python",
     "metadata": {},
     "outputs": []
    }
   ],
   "metadata": {}
  }
 ]
}