{
 "metadata": {
  "name": "",
  "signature": "sha256:eedf6dc8068cb6b428631b7c3a1f12ce2afc9abc86debe6eea18ba1b11de8399"
 },
 "nbformat": 3,
 "nbformat_minor": 0,
 "worksheets": [
  {
   "cells": [
    {
     "cell_type": "heading",
     "level": 1,
     "metadata": {},
     "source": [
      "Automatically download option data"
     ]
    },
    {
     "cell_type": "code",
     "collapsed": false,
     "input": [
      "%pylab inline\n",
      "\n",
      "import datetime as dt\n",
      "import os\n",
      "\n",
      "import pandas as pd\n",
      "import h5py as h5\n",
      "\n",
      "from pandas.io.data import Options"
     ],
     "language": "python",
     "metadata": {},
     "outputs": []
    },
    {
     "cell_type": "code",
     "collapsed": false,
     "input": [
      "outputDirectory = os.environ.get('OUTPUTDIRECTORY', -1)\n",
      "\n",
      "if outputDirectory == -1:\n",
      "    stamp = datetime.datetime.now().strftime(\"%Y%m%d_%H%M%S\")\n",
      "    outputDirectory = 'data/'+stamp\n",
      "    \n",
      "    print(\"Warning: Output directory was not retrievable\")\n",
      "\n",
      "if not os.path.exists(outputDirectory):\n",
      "    os.makedirs(outputDirectory)"
     ],
     "language": "python",
     "metadata": {},
     "outputs": []
    },
    {
     "cell_type": "code",
     "collapsed": false,
     "input": [
      "tickers = pd.read_csv('ticker_list.csv')\n",
      "tickerList = tickers['ticker'].values"
     ],
     "language": "python",
     "metadata": {},
     "outputs": []
    },
    {
     "cell_type": "code",
     "collapsed": false,
     "input": [
      "for i in range(len(tickerList)):\n",
      "\n",
      "    option = Options(tickerList[i], 'yahoo')\n",
      "    \n",
      "    try:\n",
      "        data = option.get_all_data()\n",
      "    except:\n",
      "        print('Warning: Unable to load '+tickerList[i])\n",
      "    else:\n",
      "        storeFile = pd.HDFStore(outputDirectory+'/'+tickerList[i]+'.h5')\n",
      "        storeFile[tickerList[i]] = data[['Last', 'Vol']]\n",
      "        storeFile.close()"
     ],
     "language": "python",
     "metadata": {},
     "outputs": []
    },
    {
     "cell_type": "code",
     "collapsed": false,
     "input": [
      "os.system('git add '+outputDirectory)\n",
      "os.system('git commit -m \"Uploading '+outputDirectory+'\"')\n",
      "os.system('git push')"
     ],
     "language": "python",
     "metadata": {},
     "outputs": []
    }
   ],
   "metadata": {}
  }
 ]
}